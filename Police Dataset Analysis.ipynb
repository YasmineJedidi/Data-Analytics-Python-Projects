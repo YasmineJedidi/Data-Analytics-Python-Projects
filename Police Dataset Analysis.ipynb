{
 "cells": [
  {
   "cell_type": "markdown",
   "id": "473a899b",
   "metadata": {},
   "source": [
    "The [Police dataset](https://www.kaggle.com/datasets/pranabpandit/police-data) covers 65535 driving arrests and realted attributes such as the date of the arrest, the driver's age and gender, ...\n",
    "\n",
    "I will be cleaning the data (especially the age column), then analyzing some areas (eg gender and violations).\n",
    "\n",
    "\n",
    
  {
   "cell_type": "markdown",
   "id": "7331727b",
   "metadata": {},
   "source": [
    "# Data Cleaning"
   ]
  },
  {
   "cell_type": "code",
   "execution_count": 243,
   "id": "6bfc9d57",
   "metadata": {},
   "outputs": [],
   "source": [
    "df = pd.read_csv(r'C:\\Users\\yesmi\\OneDrive\\Desktop\\Data Analytics Projects\\Projects Set 1\\Police Dataset analysis.csv')"
   ]
  },
  {
   "cell_type": "code",
   "execution_count": 244,
   "id": "641eb354",
   "metadata": {},
   "outputs": [
    {
     "data": {
      "text/html": [
       "<div>\n",
       "<style scoped>\n",
       "    .dataframe tbody tr th:only-of-type {\n",
       "        vertical-align: middle;\n",
       "    }\n",
       "\n",
       "    .dataframe tbody tr th {\n",
       "        vertical-align: top;\n",
       "    }\n",
       "\n",
       "    .dataframe thead th {\n",
       "        text-align: right;\n",
       "    }\n",
       "</style>\n",
       "<table border=\"1\" class=\"dataframe\">\n",
       "  <thead>\n",
       "    <tr style=\"text-align: right;\">\n",
       "      <th></th>\n",
       "      <th>stop_date</th>\n",
       "      <th>stop_time</th>\n",
       "      <th>country_name</th>\n",
       "      <th>driver_gender</th>\n",
       "      <th>driver_age_raw</th>\n",
       "      <th>driver_age</th>\n",
       "      <th>driver_race</th>\n",
       "      <th>violation_raw</th>\n",
       "      <th>violation</th>\n",
       "      <th>search_conducted</th>\n",
       "      <th>search_type</th>\n",
       "      <th>stop_outcome</th>\n",
       "      <th>is_arrested</th>\n",
       "      <th>stop_duration</th>\n",
       "      <th>drugs_related_stop</th>\n",
       "    </tr>\n",
       "  </thead>\n",
       "  <tbody>\n",
       "    <tr>\n",
       "      <th>0</th>\n",
       "      <td>1/2/2005</td>\n",
       "      <td>1:55</td>\n",
       "      <td>NaN</td>\n",
       "      <td>M</td>\n",
       "      <td>1985.0</td>\n",
       "      <td>20.0</td>\n",
       "      <td>White</td>\n",
       "      <td>Speeding</td>\n",
       "      <td>Speeding</td>\n",
       "      <td>False</td>\n",
       "      <td>NaN</td>\n",
       "      <td>Citation</td>\n",
       "      <td>False</td>\n",
       "      <td>0-15 Min</td>\n",
       "      <td>False</td>\n",
       "    </tr>\n",
       "    <tr>\n",
       "      <th>1</th>\n",
       "      <td>1/18/2005</td>\n",
       "      <td>8:15</td>\n",
       "      <td>NaN</td>\n",
       "      <td>M</td>\n",
       "      <td>1965.0</td>\n",
       "      <td>40.0</td>\n",
       "      <td>White</td>\n",
       "      <td>Speeding</td>\n",
       "      <td>Speeding</td>\n",
       "      <td>False</td>\n",
       "      <td>NaN</td>\n",
       "      <td>Citation</td>\n",
       "      <td>False</td>\n",
       "      <td>0-15 Min</td>\n",
       "      <td>False</td>\n",
       "    </tr>\n",
       "    <tr>\n",
       "      <th>2</th>\n",
       "      <td>1/23/2005</td>\n",
       "      <td>23:15</td>\n",
       "      <td>NaN</td>\n",
       "      <td>M</td>\n",
       "      <td>1972.0</td>\n",
       "      <td>33.0</td>\n",
       "      <td>White</td>\n",
       "      <td>Speeding</td>\n",
       "      <td>Speeding</td>\n",
       "      <td>False</td>\n",
       "      <td>NaN</td>\n",
       "      <td>Citation</td>\n",
       "      <td>False</td>\n",
       "      <td>0-15 Min</td>\n",
       "      <td>False</td>\n",
       "    </tr>\n",
       "    <tr>\n",
       "      <th>3</th>\n",
       "      <td>2/20/2005</td>\n",
       "      <td>17:15</td>\n",
       "      <td>NaN</td>\n",
       "      <td>M</td>\n",
       "      <td>1986.0</td>\n",
       "      <td>19.0</td>\n",
       "      <td>White</td>\n",
       "      <td>Call for Service</td>\n",
       "      <td>Other</td>\n",
       "      <td>False</td>\n",
       "      <td>NaN</td>\n",
       "      <td>Arrest Driver</td>\n",
       "      <td>True</td>\n",
       "      <td>16-30 Min</td>\n",
       "      <td>False</td>\n",
       "    </tr>\n",
       "    <tr>\n",
       "      <th>4</th>\n",
       "      <td>3/14/2005</td>\n",
       "      <td>10:00</td>\n",
       "      <td>NaN</td>\n",
       "      <td>F</td>\n",
       "      <td>1984.0</td>\n",
       "      <td>21.0</td>\n",
       "      <td>White</td>\n",
       "      <td>Speeding</td>\n",
       "      <td>Speeding</td>\n",
       "      <td>False</td>\n",
       "      <td>NaN</td>\n",
       "      <td>Citation</td>\n",
       "      <td>False</td>\n",
       "      <td>0-15 Min</td>\n",
       "      <td>False</td>\n",
       "    </tr>\n",
       "  </tbody>\n",
       "</table>\n",
       "</div>"
      ],
      "text/plain": [
       "   stop_date stop_time  country_name driver_gender  driver_age_raw  \\\n",
       "0   1/2/2005      1:55           NaN             M          1985.0   \n",
       "1  1/18/2005      8:15           NaN             M          1965.0   \n",
       "2  1/23/2005     23:15           NaN             M          1972.0   \n",
       "3  2/20/2005     17:15           NaN             M          1986.0   \n",
       "4  3/14/2005     10:00           NaN             F          1984.0   \n",
       "\n",
       "   driver_age driver_race     violation_raw violation  search_conducted  \\\n",
       "0        20.0       White          Speeding  Speeding             False   \n",
       "1        40.0       White          Speeding  Speeding             False   \n",
       "2        33.0       White          Speeding  Speeding             False   \n",
       "3        19.0       White  Call for Service     Other             False   \n",
       "4        21.0       White          Speeding  Speeding             False   \n",
       "\n",
       "  search_type   stop_outcome is_arrested stop_duration  drugs_related_stop  \n",
       "0         NaN       Citation       False      0-15 Min               False  \n",
       "1         NaN       Citation       False      0-15 Min               False  \n",
       "2         NaN       Citation       False      0-15 Min               False  \n",
       "3         NaN  Arrest Driver        True     16-30 Min               False  \n",
       "4         NaN       Citation       False      0-15 Min               False  "
      ]
     },
     "execution_count": 244,
     "metadata": {},
     "output_type": "execute_result"
    }
   ],
   "source": [
    "df.head()"
   ]
  },
  {
   "cell_type": "code",
   "execution_count": 245,
   "id": "3a21f1b1",
   "metadata": {},
   "outputs": [
    {
     "data": {
      "text/plain": [
       "(65535, 15)"
      ]
     },
     "execution_count": 245,
     "metadata": {},
     "output_type": "execute_result"
    }
   ],
   "source": [
    "df.shape"
   ]
  },
  {
   "cell_type": "markdown",
   "id": "b6665efe",
   "metadata": {},
   "source": [
    "## Missing Values\n",
    "Just by looking at the first few rows, we could tell that country names are missing as well as search type. Let's look at how much is missing from these two, as well the rest of the columns."
   ]
  },
  {
   "cell_type": "code",
   "execution_count": 246,
   "id": "f418908b",
   "metadata": {},
   "outputs": [
    {
     "data": {
      "text/plain": [
       "stop_date                 0\n",
       "stop_time                 0\n",
       "country_name          65535\n",
       "driver_gender          4061\n",
       "driver_age_raw         4054\n",
       "driver_age             4307\n",
       "driver_race            4060\n",
       "violation_raw          4060\n",
       "violation              4060\n",
       "search_conducted          0\n",
       "search_type           63056\n",
       "stop_outcome           4060\n",
       "is_arrested            4060\n",
       "stop_duration          4060\n",
       "drugs_related_stop        0\n",
       "dtype: int64"
      ]
     },
     "execution_count": 246,
     "metadata": {},
     "output_type": "execute_result"
    }
   ],
   "source": [
    "# The number of missing Values in each column\n",
    "missing_values = df.isnull().sum()\n",
    "missing_values"
   ]
  },
  {
   "cell_type": "code",
   "execution_count": 247,
   "id": "ea454774",
   "metadata": {},
   "outputs": [
    {
     "data": {
      "text/plain": [
       "16.822868187482516"
      ]
     },
     "execution_count": 247,
     "metadata": {},
     "output_type": "execute_result"
    }
   ],
   "source": [
    "# Total missing values in the dataset\n",
    "total_cells = np.product(df.shape)\n",
    "total_missing = missing_values_count.sum()\n",
    "\n",
    "# percentage of missing data \n",
    "(total_missing/total_cells) * 100"
   ]
  },
  {
   "cell_type": "markdown",
   "id": "a4b58b2f",
   "metadata": {},
   "source": [
    "In total, almost 17% of the data is missing!"
   ]
  },
  {
   "cell_type": "markdown",
   "id": "ad89d47f",
   "metadata": {},
   "source": [
    "### 1. Dropping Empty Columns"
   ]
  },
  {
   "cell_type": "code",
   "execution_count": 248,
   "id": "763ebea0",
   "metadata": {},
   "outputs": [],
   "source": [
    "# drop the country_name and search_type columns since almost all values are missing there\n",
    "#df.drop(columns='country_name', inplace = True)\n",
    "df = df.drop(['country_name','search_type'],axis=1)"
   ]
  },
  {
   "cell_type": "code",
   "execution_count": 249,
   "id": "197132de",
   "metadata": {},
   "outputs": [
    {
     "data": {
      "text/html": [
       "<div>\n",
       "<style scoped>\n",
       "    .dataframe tbody tr th:only-of-type {\n",
       "        vertical-align: middle;\n",
       "    }\n",
       "\n",
       "    .dataframe tbody tr th {\n",
       "        vertical-align: top;\n",
       "    }\n",
       "\n",
       "    .dataframe thead th {\n",
       "        text-align: right;\n",
       "    }\n",
       "</style>\n",
       "<table border=\"1\" class=\"dataframe\">\n",
       "  <thead>\n",
       "    <tr style=\"text-align: right;\">\n",
       "      <th></th>\n",
       "      <th>stop_date</th>\n",
       "      <th>stop_time</th>\n",
       "      <th>driver_gender</th>\n",
       "      <th>driver_age_raw</th>\n",
       "      <th>driver_age</th>\n",
       "      <th>driver_race</th>\n",
       "      <th>violation_raw</th>\n",
       "      <th>violation</th>\n",
       "      <th>search_conducted</th>\n",
       "      <th>stop_outcome</th>\n",
       "      <th>is_arrested</th>\n",
       "      <th>stop_duration</th>\n",
       "      <th>drugs_related_stop</th>\n",
       "    </tr>\n",
       "  </thead>\n",
       "  <tbody>\n",
       "    <tr>\n",
       "      <th>0</th>\n",
       "      <td>1/2/2005</td>\n",
       "      <td>1:55</td>\n",
       "      <td>M</td>\n",
       "      <td>1985.0</td>\n",
       "      <td>20.0</td>\n",
       "      <td>White</td>\n",
       "      <td>Speeding</td>\n",
       "      <td>Speeding</td>\n",
       "      <td>False</td>\n",
       "      <td>Citation</td>\n",
       "      <td>False</td>\n",
       "      <td>0-15 Min</td>\n",
       "      <td>False</td>\n",
       "    </tr>\n",
       "    <tr>\n",
       "      <th>1</th>\n",
       "      <td>1/18/2005</td>\n",
       "      <td>8:15</td>\n",
       "      <td>M</td>\n",
       "      <td>1965.0</td>\n",
       "      <td>40.0</td>\n",
       "      <td>White</td>\n",
       "      <td>Speeding</td>\n",
       "      <td>Speeding</td>\n",
       "      <td>False</td>\n",
       "      <td>Citation</td>\n",
       "      <td>False</td>\n",
       "      <td>0-15 Min</td>\n",
       "      <td>False</td>\n",
       "    </tr>\n",
       "    <tr>\n",
       "      <th>2</th>\n",
       "      <td>1/23/2005</td>\n",
       "      <td>23:15</td>\n",
       "      <td>M</td>\n",
       "      <td>1972.0</td>\n",
       "      <td>33.0</td>\n",
       "      <td>White</td>\n",
       "      <td>Speeding</td>\n",
       "      <td>Speeding</td>\n",
       "      <td>False</td>\n",
       "      <td>Citation</td>\n",
       "      <td>False</td>\n",
       "      <td>0-15 Min</td>\n",
       "      <td>False</td>\n",
       "    </tr>\n",
       "    <tr>\n",
       "      <th>3</th>\n",
       "      <td>2/20/2005</td>\n",
       "      <td>17:15</td>\n",
       "      <td>M</td>\n",
       "      <td>1986.0</td>\n",
       "      <td>19.0</td>\n",
       "      <td>White</td>\n",
       "      <td>Call for Service</td>\n",
       "      <td>Other</td>\n",
       "      <td>False</td>\n",
       "      <td>Arrest Driver</td>\n",
       "      <td>True</td>\n",
       "      <td>16-30 Min</td>\n",
       "      <td>False</td>\n",
       "    </tr>\n",
       "    <tr>\n",
       "      <th>4</th>\n",
       "      <td>3/14/2005</td>\n",
       "      <td>10:00</td>\n",
       "      <td>F</td>\n",
       "      <td>1984.0</td>\n",
       "      <td>21.0</td>\n",
       "      <td>White</td>\n",
       "      <td>Speeding</td>\n",
       "      <td>Speeding</td>\n",
       "      <td>False</td>\n",
       "      <td>Citation</td>\n",
       "      <td>False</td>\n",
       "      <td>0-15 Min</td>\n",
       "      <td>False</td>\n",
       "    </tr>\n",
       "  </tbody>\n",
       "</table>\n",
       "</div>"
      ],
      "text/plain": [
       "   stop_date stop_time driver_gender  driver_age_raw  driver_age driver_race  \\\n",
       "0   1/2/2005      1:55             M          1985.0        20.0       White   \n",
       "1  1/18/2005      8:15             M          1965.0        40.0       White   \n",
       "2  1/23/2005     23:15             M          1972.0        33.0       White   \n",
       "3  2/20/2005     17:15             M          1986.0        19.0       White   \n",
       "4  3/14/2005     10:00             F          1984.0        21.0       White   \n",
       "\n",
       "      violation_raw violation  search_conducted   stop_outcome is_arrested  \\\n",
       "0          Speeding  Speeding             False       Citation       False   \n",
       "1          Speeding  Speeding             False       Citation       False   \n",
       "2          Speeding  Speeding             False       Citation       False   \n",
       "3  Call for Service     Other             False  Arrest Driver        True   \n",
       "4          Speeding  Speeding             False       Citation       False   \n",
       "\n",
       "  stop_duration  drugs_related_stop  \n",
       "0      0-15 Min               False  \n",
       "1      0-15 Min               False  \n",
       "2      0-15 Min               False  \n",
       "3     16-30 Min               False  \n",
       "4      0-15 Min               False  "
      ]
     },
     "execution_count": 249,
     "metadata": {},
     "output_type": "execute_result"
    }
   ],
   "source": [
    "df.head()"
   ]
  },
  {
   "cell_type": "markdown",
   "id": "966f744d",
   "metadata": {},
   "source": [
    "### 2. Calculating Some Missing Ages"
   ]
  },
  {
   "cell_type": "markdown",
   "id": "39d47878",
   "metadata": {},
   "source": [
    "Notice that 4307 ages are missing, while 4054 raw ages are missing (birth years), we can find the 253 missing age values by calculating them. "
   ]
  },
  {
   "cell_type": "code",
   "execution_count": 250,
   "id": "e503f9ac",
   "metadata": {},
   "outputs": [
    {
     "data": {
      "text/plain": [
       "stop_date              object\n",
       "stop_time              object\n",
       "driver_gender          object\n",
       "driver_age_raw        float64\n",
       "driver_age            float64\n",
       "driver_race            object\n",
       "violation_raw          object\n",
       "violation              object\n",
       "search_conducted         bool\n",
       "stop_outcome           object\n",
       "is_arrested            object\n",
       "stop_duration          object\n",
       "drugs_related_stop       bool\n",
       "dtype: object"
      ]
     },
     "execution_count": 250,
     "metadata": {},
     "output_type": "execute_result"
    }
   ],
   "source": [
    "df.dtypes"
   ]
  },
  {
   "cell_type": "code",
   "execution_count": 251,
   "id": "65696dc7",
   "metadata": {},
   "outputs": [],
   "source": [
    "#drop empty driver_age_raw rows \n",
    "df.dropna(subset=['driver_age_raw'], inplace=True)"
   ]
  },
  {
   "cell_type": "code",
   "execution_count": 252,
   "id": "bf158b24",
   "metadata": {},
   "outputs": [
    {
     "data": {
      "text/plain": [
       "stop_date               0\n",
       "stop_time               0\n",
       "driver_gender           8\n",
       "driver_age_raw          0\n",
       "driver_age            253\n",
       "driver_race             7\n",
       "violation_raw           7\n",
       "violation               7\n",
       "search_conducted        0\n",
       "stop_outcome            7\n",
       "is_arrested             7\n",
       "stop_duration           7\n",
       "drugs_related_stop      0\n",
       "dtype: int64"
      ]
     },
     "execution_count": 252,
     "metadata": {},
     "output_type": "execute_result"
    }
   ],
   "source": [
    "df.isnull().sum()"
   ]
  },
  {
   "cell_type": "code",
   "execution_count": 253,
   "id": "3c22b58c",
   "metadata": {},
   "outputs": [],
   "source": [
    "#first, convert birth year and age to an integer\n",
    "df['driver_age_raw']=df['driver_age_raw'].astype('int64')"
   ]
  },
  {
   "cell_type": "code",
   "execution_count": 254,
   "id": "19aca45d",
   "metadata": {},
   "outputs": [],
   "source": [
    "# convert stop_date to datetime format\n",
    "df['stop_date'] = pd.to_datetime(df['stop_date'], format='%m/%d/%Y')\n",
    "\n",
    "# calculate arrest year\n",
    "df['arrest_year'] = df['stop_date'].dt.year\n",
    "\n",
    "# replace missing age values with the calculated age\n",
    "df['driver_age'] = np.where(df['driver_age'].isnull() & df['driver_age_raw'].notnull(), \n",
    "                            df['arrest_year'] - df['driver_age_raw'], df['driver_age'])"
   ]
  },
  {
   "cell_type": "markdown",
   "id": "32c7d11c",
   "metadata": {},
   "source": [
    "### 3. Drop all rows with missing values"
   ]
  },
  {
   "cell_type": "code",
   "execution_count": 255,
   "id": "93afe5b6",
   "metadata": {},
   "outputs": [],
   "source": [
    "df = df.dropna()"
   ]
  },
  {
   "cell_type": "code",
   "execution_count": 256,
   "id": "aeef7791",
   "metadata": {},
   "outputs": [
    {
     "data": {
      "text/plain": [
       "stop_date             0\n",
       "stop_time             0\n",
       "driver_gender         0\n",
       "driver_age_raw        0\n",
       "driver_age            0\n",
       "driver_race           0\n",
       "violation_raw         0\n",
       "violation             0\n",
       "search_conducted      0\n",
       "stop_outcome          0\n",
       "is_arrested           0\n",
       "stop_duration         0\n",
       "drugs_related_stop    0\n",
       "arrest_year           0\n",
       "dtype: int64"
      ]
     },
     "execution_count": 256,
     "metadata": {},
     "output_type": "execute_result"
    }
   ],
   "source": [
    "df.isnull().sum()"
   ]
  },
  {
   "cell_type": "markdown",
   "id": "6271b1c6",
   "metadata": {},
   "source": [
    "Done, now we have 0% missing values in our dataset."
   ]
  },
  {
   "cell_type": "markdown",
   "id": "b13075fc",
   "metadata": {},
   "source": [
    "## Duplicate Values"
   ]
  },
  {
   "cell_type": "code",
   "execution_count": 257,
   "id": "1c14d25f",
   "metadata": {
    "scrolled": true
   },
   "outputs": [],
   "source": [
    "# check for duplicate rows based on all columns\n",
    "duplicate_rows = df.duplicated().sum()"
   ]
  },
  {
   "cell_type": "code",
   "execution_count": 258,
   "id": "3ad4bc80",
   "metadata": {},
   "outputs": [
    {
     "name": "stdout",
     "output_type": "stream",
     "text": [
      "The Number of duplicate rows: 183\n"
     ]
    }
   ],
   "source": [
    "print(\"The Number of duplicate rows:\", duplicate_rows)"
   ]
  },
  {
   "cell_type": "code",
   "execution_count": 259,
   "id": "4ede875b",
   "metadata": {
    "scrolled": true
   },
   "outputs": [],
   "source": [
    "#Drop all duplicate rows\n",
    "df = df.drop_duplicates()"
   ]
  },
  {
   "cell_type": "markdown",
   "id": "d7ece8fa",
   "metadata": {},
   "source": [
    "## Check if Age Matches Birth Year"
   ]
  },
  {
   "cell_type": "code",
   "execution_count": 260,
   "id": "b9da8f24",
   "metadata": {},
   "outputs": [],
   "source": [
    "#convert age into an integer\n",
    "df['driver_age']=df['driver_age'].astype('int64')"
   ]
  },
  {
   "cell_type": "code",
   "execution_count": 261,
   "id": "7d9ed665",
   "metadata": {},
   "outputs": [],
   "source": [
    "# create a new column to store calculated age\n",
    "df_copy = df.copy()\n",
    "df_copy['calculated_age'] = 0\n",
    "df_copy['calculated_age'] = df_copy['arrest_year'] - df_copy['driver_age_raw']\n",
    "df = df_copy"
   ]
  },
  {
   "cell_type": "code",
   "execution_count": 262,
   "id": "38a9fa98",
   "metadata": {},
   "outputs": [
    {
     "data": {
      "text/plain": [
       "(61290, 15)"
      ]
     },
     "execution_count": 262,
     "metadata": {},
     "output_type": "execute_result"
    }
   ],
   "source": [
    "df.shape"
   ]
  },
  {
   "cell_type": "code",
   "execution_count": 263,
   "id": "212b0474",
   "metadata": {
    "scrolled": true
   },
   "outputs": [
    {
     "data": {
      "text/plain": [
       "61290"
      ]
     },
     "execution_count": 263,
     "metadata": {},
     "output_type": "execute_result"
    }
   ],
   "source": [
    "# check if calculated age matches driver age\n",
    "matches = df['calculated_age'] == df['driver_age']\n",
    "matches.sum()"
   ]
  },
  {
   "cell_type": "code",
   "execution_count": 264,
   "id": "4158f2b6",
   "metadata": {},
   "outputs": [],
   "source": [
    "df = df.drop(['calculated_age','arrest_year'],axis=1)"
   ]
  },
  {
   "cell_type": "code",
   "execution_count": 265,
   "id": "5a675823",
   "metadata": {
    "collapsed": true
   },
   "outputs": [
    {
     "data": {
      "text/html": [
       "<div>\n",
       "<style scoped>\n",
       "    .dataframe tbody tr th:only-of-type {\n",
       "        vertical-align: middle;\n",
       "    }\n",
       "\n",
       "    .dataframe tbody tr th {\n",
       "        vertical-align: top;\n",
       "    }\n",
       "\n",
       "    .dataframe thead th {\n",
       "        text-align: right;\n",
       "    }\n",
       "</style>\n",
       "<table border=\"1\" class=\"dataframe\">\n",
       "  <thead>\n",
       "    <tr style=\"text-align: right;\">\n",
       "      <th></th>\n",
       "      <th>stop_date</th>\n",
       "      <th>stop_time</th>\n",
       "      <th>driver_gender</th>\n",
       "      <th>driver_age_raw</th>\n",
       "      <th>driver_age</th>\n",
       "      <th>driver_race</th>\n",
       "      <th>violation_raw</th>\n",
       "      <th>violation</th>\n",
       "      <th>search_conducted</th>\n",
       "      <th>stop_outcome</th>\n",
       "      <th>is_arrested</th>\n",
       "      <th>stop_duration</th>\n",
       "      <th>drugs_related_stop</th>\n",
       "    </tr>\n",
       "  </thead>\n",
       "  <tbody>\n",
       "    <tr>\n",
       "      <th>0</th>\n",
       "      <td>2005-01-02</td>\n",
       "      <td>1:55</td>\n",
       "      <td>M</td>\n",
       "      <td>1985</td>\n",
       "      <td>20</td>\n",
       "      <td>White</td>\n",
       "      <td>Speeding</td>\n",
       "      <td>Speeding</td>\n",
       "      <td>False</td>\n",
       "      <td>Citation</td>\n",
       "      <td>False</td>\n",
       "      <td>0-15 Min</td>\n",
       "      <td>False</td>\n",
       "    </tr>\n",
       "    <tr>\n",
       "      <th>1</th>\n",
       "      <td>2005-01-18</td>\n",
       "      <td>8:15</td>\n",
       "      <td>M</td>\n",
       "      <td>1965</td>\n",
       "      <td>40</td>\n",
       "      <td>White</td>\n",
       "      <td>Speeding</td>\n",
       "      <td>Speeding</td>\n",
       "      <td>False</td>\n",
       "      <td>Citation</td>\n",
       "      <td>False</td>\n",
       "      <td>0-15 Min</td>\n",
       "      <td>False</td>\n",
       "    </tr>\n",
       "    <tr>\n",
       "      <th>2</th>\n",
       "      <td>2005-01-23</td>\n",
       "      <td>23:15</td>\n",
       "      <td>M</td>\n",
       "      <td>1972</td>\n",
       "      <td>33</td>\n",
       "      <td>White</td>\n",
       "      <td>Speeding</td>\n",
       "      <td>Speeding</td>\n",
       "      <td>False</td>\n",
       "      <td>Citation</td>\n",
       "      <td>False</td>\n",
       "      <td>0-15 Min</td>\n",
       "      <td>False</td>\n",
       "    </tr>\n",
       "    <tr>\n",
       "      <th>3</th>\n",
       "      <td>2005-02-20</td>\n",
       "      <td>17:15</td>\n",
       "      <td>M</td>\n",
       "      <td>1986</td>\n",
       "      <td>19</td>\n",
       "      <td>White</td>\n",
       "      <td>Call for Service</td>\n",
       "      <td>Other</td>\n",
       "      <td>False</td>\n",
       "      <td>Arrest Driver</td>\n",
       "      <td>True</td>\n",
       "      <td>16-30 Min</td>\n",
       "      <td>False</td>\n",
       "    </tr>\n",
       "    <tr>\n",
       "      <th>4</th>\n",
       "      <td>2005-03-14</td>\n",
       "      <td>10:00</td>\n",
       "      <td>F</td>\n",
       "      <td>1984</td>\n",
       "      <td>21</td>\n",
       "      <td>White</td>\n",
       "      <td>Speeding</td>\n",
       "      <td>Speeding</td>\n",
       "      <td>False</td>\n",
       "      <td>Citation</td>\n",
       "      <td>False</td>\n",
       "      <td>0-15 Min</td>\n",
       "      <td>False</td>\n",
       "    </tr>\n",
       "  </tbody>\n",
       "</table>\n",
       "</div>"
      ],
      "text/plain": [
       "   stop_date stop_time driver_gender  driver_age_raw  driver_age driver_race  \\\n",
       "0 2005-01-02      1:55             M            1985          20       White   \n",
       "1 2005-01-18      8:15             M            1965          40       White   \n",
       "2 2005-01-23     23:15             M            1972          33       White   \n",
       "3 2005-02-20     17:15             M            1986          19       White   \n",
       "4 2005-03-14     10:00             F            1984          21       White   \n",
       "\n",
       "      violation_raw violation  search_conducted   stop_outcome is_arrested  \\\n",
       "0          Speeding  Speeding             False       Citation       False   \n",
       "1          Speeding  Speeding             False       Citation       False   \n",
       "2          Speeding  Speeding             False       Citation       False   \n",
       "3  Call for Service     Other             False  Arrest Driver        True   \n",
       "4          Speeding  Speeding             False       Citation       False   \n",
       "\n",
       "  stop_duration  drugs_related_stop  \n",
       "0      0-15 Min               False  \n",
       "1      0-15 Min               False  \n",
       "2      0-15 Min               False  \n",
       "3     16-30 Min               False  \n",
       "4      0-15 Min               False  "
      ]
     },
     "execution_count": 265,
     "metadata": {},
     "output_type": "execute_result"
    }
   ],
   "source": [
    "df.head()"
   ]
  },
  {
   "cell_type": "markdown",
   "id": "3be33755",
   "metadata": {},
   "source": [
    "## Age Outliers"
   ]
  },
  {
   "cell_type": "code",
   "execution_count": 333,
   "id": "c66791f0",
   "metadata": {},
   "outputs": [
    {
     "data": {
      "text/plain": [
       "251"
      ]
     },
     "execution_count": 333,
     "metadata": {},
     "output_type": "execute_result"
    }
   ],
   "source": [
    "num_outliers = len(df[(df['driver_age'] < 15) | (df['driver_age'] > 90)])\n",
    "num_outliers"
   ]
  },
  {
   "cell_type": "markdown",
   "id": "609a6232",
   "metadata": {},
   "source": [
    "Repalce these ages with the mean age"
   ]
  },
  {
   "cell_type": "code",
   "execution_count": 336,
   "id": "1e7d5d1a",
   "metadata": {},
   "outputs": [],
   "source": [
    "mean_age = df['driver_age'].mean()\n",
    "df.loc[df['driver_age'] < 15, 'driver_age'] = mean_age\n",
    "df.loc[df['driver_age'] > 90, 'driver_age'] = mean_age"
   ]
  },
  {
   "cell_type": "markdown",
   "id": "4ae5b48f",
   "metadata": {},
   "source": [
    "# Analysis"
   ]
  },
  {
   "cell_type": "markdown",
   "id": "30d47f80",
   "metadata": {},
   "source": [
    "## 1. Stopped Drivers by Gender"
   ]
  },
  {
   "cell_type": "code",
   "execution_count": 337,
   "id": "08bd36df",
   "metadata": {},
   "outputs": [
    {
     "data": {
      "text/plain": [
       "M    45022\n",
       "F    16268\n",
       "Name: driver_gender, dtype: int64"
      ]
     },
     "execution_count": 337,
     "metadata": {},
     "output_type": "execute_result"
    }
   ],
   "source": [
    "#Were men or women stopped more often?\n",
    "    #Count the number of arrests by gender\n",
    "arrests_by_gender = df['driver_gender'].value_counts()\n",
    "total_arrests = len(df)\n",
    "\n",
    "arrests_by_gender "
   ]
  },
  {
   "cell_type": "code",
   "execution_count": 338,
   "id": "6eb7ea9d",
   "metadata": {},
   "outputs": [
    {
     "data": {
      "text/plain": [
       "M    73.0\n",
       "F    27.0\n",
       "Name: driver_gender, dtype: float64"
      ]
     },
     "execution_count": 338,
     "metadata": {},
     "output_type": "execute_result"
    }
   ],
   "source": [
    "#Calculate the percentage of arrests by gender\n",
    "arrests_percentage = arrests_by_gender / total_arrests * 100\n",
    "round(arrests_percentage)"
   ]
  },
  {
   "cell_type": "markdown",
   "id": "8e58795d",
   "metadata": {},
   "source": [
    "You can see that 73% of arrested drivers were men, compared to only 27% women."
   ]
  },
  {
   "cell_type": "markdown",
   "id": "a1650835",
   "metadata": {},
   "source": [
    "## 2. Stopped Speeding Drivers by Gender"
   ]
  },
  {
   "cell_type": "code",
   "execution_count": 339,
   "id": "d8521797",
   "metadata": {},
   "outputs": [
    {
     "data": {
      "text/plain": [
       "M    25441\n",
       "F    11661\n",
       "Name: driver_gender, dtype: int64"
      ]
     },
     "execution_count": 339,
     "metadata": {},
     "output_type": "execute_result"
    }
   ],
   "source": [
    "violation_by_gender = df[df.violation==\"Speeding\"].driver_gender.value_counts()\n",
    "violation_by_gender"
   ]
  },
  {
   "cell_type": "code",
   "execution_count": 340,
   "id": "b95a8928",
   "metadata": {},
   "outputs": [
    {
     "data": {
      "text/plain": [
       "M    69.0\n",
       "F    31.0\n",
       "Name: driver_gender, dtype: float64"
      ]
     },
     "execution_count": 340,
     "metadata": {},
     "output_type": "execute_result"
    }
   ],
   "source": [
    "totla_speeding_arrests = df.violation.isin(['Speeding']).sum()\n",
    "\n",
    "speeding_percentage = violation_by_gender / totla_speeding_arrests * 100\n",
    "round(speeding_percentage)"
   ]
  },
  {
   "cell_type": "markdown",
   "id": "2699fc55",
   "metadata": {},
   "source": [
    "## 3. Searches by Gender\n",
    "We want to know if gender affects the probability of being seached."
   ]
  },
  {
   "cell_type": "code",
   "execution_count": 341,
   "id": "055d2473",
   "metadata": {},
   "outputs": [
    {
     "data": {
      "text/html": [
       "<div>\n",
       "<style scoped>\n",
       "    .dataframe tbody tr th:only-of-type {\n",
       "        vertical-align: middle;\n",
       "    }\n",
       "\n",
       "    .dataframe tbody tr th {\n",
       "        vertical-align: top;\n",
       "    }\n",
       "\n",
       "    .dataframe thead th {\n",
       "        text-align: right;\n",
       "    }\n",
       "</style>\n",
       "<table border=\"1\" class=\"dataframe\">\n",
       "  <thead>\n",
       "    <tr style=\"text-align: right;\">\n",
       "      <th></th>\n",
       "      <th>stop_date</th>\n",
       "      <th>stop_time</th>\n",
       "      <th>driver_gender</th>\n",
       "      <th>driver_age_raw</th>\n",
       "      <th>driver_age</th>\n",
       "      <th>driver_race</th>\n",
       "      <th>violation_raw</th>\n",
       "      <th>violation</th>\n",
       "      <th>search_conducted</th>\n",
       "      <th>stop_outcome</th>\n",
       "      <th>is_arrested</th>\n",
       "      <th>stop_duration</th>\n",
       "      <th>drugs_related_stop</th>\n",
       "      <th>stop_duration_mean</th>\n",
       "    </tr>\n",
       "  </thead>\n",
       "  <tbody>\n",
       "    <tr>\n",
       "      <th>0</th>\n",
       "      <td>2005-01-02</td>\n",
       "      <td>1:55</td>\n",
       "      <td>M</td>\n",
       "      <td>1985</td>\n",
       "      <td>20.0</td>\n",
       "      <td>White</td>\n",
       "      <td>Speeding</td>\n",
       "      <td>Speeding</td>\n",
       "      <td>False</td>\n",
       "      <td>Citation</td>\n",
       "      <td>False</td>\n",
       "      <td>0-15 Min</td>\n",
       "      <td>False</td>\n",
       "      <td>7.5</td>\n",
       "    </tr>\n",
       "    <tr>\n",
       "      <th>1</th>\n",
       "      <td>2005-01-18</td>\n",
       "      <td>8:15</td>\n",
       "      <td>M</td>\n",
       "      <td>1965</td>\n",
       "      <td>40.0</td>\n",
       "      <td>White</td>\n",
       "      <td>Speeding</td>\n",
       "      <td>Speeding</td>\n",
       "      <td>False</td>\n",
       "      <td>Citation</td>\n",
       "      <td>False</td>\n",
       "      <td>0-15 Min</td>\n",
       "      <td>False</td>\n",
       "      <td>7.5</td>\n",
       "    </tr>\n",
       "    <tr>\n",
       "      <th>2</th>\n",
       "      <td>2005-01-23</td>\n",
       "      <td>23:15</td>\n",
       "      <td>M</td>\n",
       "      <td>1972</td>\n",
       "      <td>33.0</td>\n",
       "      <td>White</td>\n",
       "      <td>Speeding</td>\n",
       "      <td>Speeding</td>\n",
       "      <td>False</td>\n",
       "      <td>Citation</td>\n",
       "      <td>False</td>\n",
       "      <td>0-15 Min</td>\n",
       "      <td>False</td>\n",
       "      <td>7.5</td>\n",
       "    </tr>\n",
       "    <tr>\n",
       "      <th>3</th>\n",
       "      <td>2005-02-20</td>\n",
       "      <td>17:15</td>\n",
       "      <td>M</td>\n",
       "      <td>1986</td>\n",
       "      <td>19.0</td>\n",
       "      <td>White</td>\n",
       "      <td>Call for Service</td>\n",
       "      <td>Other</td>\n",
       "      <td>False</td>\n",
       "      <td>Arrest Driver</td>\n",
       "      <td>True</td>\n",
       "      <td>16-30 Min</td>\n",
       "      <td>False</td>\n",
       "      <td>24.0</td>\n",
       "    </tr>\n",
       "    <tr>\n",
       "      <th>4</th>\n",
       "      <td>2005-03-14</td>\n",
       "      <td>10:00</td>\n",
       "      <td>F</td>\n",
       "      <td>1984</td>\n",
       "      <td>21.0</td>\n",
       "      <td>White</td>\n",
       "      <td>Speeding</td>\n",
       "      <td>Speeding</td>\n",
       "      <td>False</td>\n",
       "      <td>Citation</td>\n",
       "      <td>False</td>\n",
       "      <td>0-15 Min</td>\n",
       "      <td>False</td>\n",
       "      <td>7.5</td>\n",
       "    </tr>\n",
       "  </tbody>\n",
       "</table>\n",
       "</div>"
      ],
      "text/plain": [
       "   stop_date stop_time driver_gender  driver_age_raw  driver_age driver_race  \\\n",
       "0 2005-01-02      1:55             M            1985        20.0       White   \n",
       "1 2005-01-18      8:15             M            1965        40.0       White   \n",
       "2 2005-01-23     23:15             M            1972        33.0       White   \n",
       "3 2005-02-20     17:15             M            1986        19.0       White   \n",
       "4 2005-03-14     10:00             F            1984        21.0       White   \n",
       "\n",
       "      violation_raw violation  search_conducted   stop_outcome is_arrested  \\\n",
       "0          Speeding  Speeding             False       Citation       False   \n",
       "1          Speeding  Speeding             False       Citation       False   \n",
       "2          Speeding  Speeding             False       Citation       False   \n",
       "3  Call for Service     Other             False  Arrest Driver        True   \n",
       "4          Speeding  Speeding             False       Citation       False   \n",
       "\n",
       "  stop_duration  drugs_related_stop  stop_duration_mean  \n",
       "0      0-15 Min               False                 7.5  \n",
       "1      0-15 Min               False                 7.5  \n",
       "2      0-15 Min               False                 7.5  \n",
       "3     16-30 Min               False                24.0  \n",
       "4      0-15 Min               False                 7.5  "
      ]
     },
     "execution_count": 341,
     "metadata": {},
     "output_type": "execute_result"
    }
   ],
   "source": [
    "df.head()"
   ]
  },
  {
   "cell_type": "code",
   "execution_count": 342,
   "id": "99f1178e",
   "metadata": {},
   "outputs": [
    {
     "data": {
      "text/plain": [
       "driver_gender\n",
       "F     365\n",
       "M    2105\n",
       "Name: search_conducted, dtype: int64"
      ]
     },
     "execution_count": 342,
     "metadata": {},
     "output_type": "execute_result"
    }
   ],
   "source": [
    "searched = df.groupby('driver_gender').search_conducted.sum()\n",
    "searched"
   ]
  },
  {
   "cell_type": "code",
   "execution_count": 343,
   "id": "62db1a66",
   "metadata": {},
   "outputs": [
    {
     "data": {
      "text/plain": [
       "M    69.0\n",
       "F    31.0\n",
       "Name: driver_gender, dtype: float64"
      ]
     },
     "execution_count": 343,
     "metadata": {},
     "output_type": "execute_result"
    }
   ],
   "source": [
    "nb_searched_drivers = df.search_conducted.isin(['True']).sum()\n",
    "serches_by_gender = searched / nb_searched_drivers * 100\n",
    "round(speeding_percentage)"
   ]
  },
  {
   "cell_type": "markdown",
   "id": "55a367ea",
   "metadata": {},
   "source": [
    "69% of searched drivers were men."
   ]
  },
  {
   "cell_type": "markdown",
   "id": "a9765b48",
   "metadata": {},
   "source": [
    "## 4. Stop Duration\n",
    "What the mean? "
   ]
  },
  {
   "cell_type": "code",
   "execution_count": 344,
   "id": "6042f7dc",
   "metadata": {},
   "outputs": [
    {
     "data": {
      "text/plain": [
       "0-15 Min     47262\n",
       "16-30 Min    11403\n",
       "30+ Min       2624\n",
       "2                1\n",
       "Name: stop_duration, dtype: int64"
      ]
     },
     "execution_count": 344,
     "metadata": {},
     "output_type": "execute_result"
    }
   ],
   "source": [
    "df.stop_duration.value_counts()"
   ]
  },
  {
   "cell_type": "code",
   "execution_count": 345,
   "id": "172b914a",
   "metadata": {},
   "outputs": [],
   "source": [
    "# df['Col_name']=df['Col_name'].map({old:new,old:new})\n",
    "\n",
    "df['stop_duration_mean']=df['stop_duration'].map({'0-15 Min':7.5,'16-30 Min':24,'30+ Min':35})"
   ]
  },
  {
   "cell_type": "code",
   "execution_count": 346,
   "id": "6b6b13b3",
   "metadata": {},
   "outputs": [
    {
     "data": {
      "text/html": [
       "<div>\n",
       "<style scoped>\n",
       "    .dataframe tbody tr th:only-of-type {\n",
       "        vertical-align: middle;\n",
       "    }\n",
       "\n",
       "    .dataframe tbody tr th {\n",
       "        vertical-align: top;\n",
       "    }\n",
       "\n",
       "    .dataframe thead th {\n",
       "        text-align: right;\n",
       "    }\n",
       "</style>\n",
       "<table border=\"1\" class=\"dataframe\">\n",
       "  <thead>\n",
       "    <tr style=\"text-align: right;\">\n",
       "      <th></th>\n",
       "      <th>stop_date</th>\n",
       "      <th>stop_time</th>\n",
       "      <th>driver_gender</th>\n",
       "      <th>driver_age_raw</th>\n",
       "      <th>driver_age</th>\n",
       "      <th>driver_race</th>\n",
       "      <th>violation_raw</th>\n",
       "      <th>violation</th>\n",
       "      <th>search_conducted</th>\n",
       "      <th>stop_outcome</th>\n",
       "      <th>is_arrested</th>\n",
       "      <th>stop_duration</th>\n",
       "      <th>drugs_related_stop</th>\n",
       "      <th>stop_duration_mean</th>\n",
       "    </tr>\n",
       "  </thead>\n",
       "  <tbody>\n",
       "    <tr>\n",
       "      <th>0</th>\n",
       "      <td>2005-01-02</td>\n",
       "      <td>1:55</td>\n",
       "      <td>M</td>\n",
       "      <td>1985</td>\n",
       "      <td>20.0</td>\n",
       "      <td>White</td>\n",
       "      <td>Speeding</td>\n",
       "      <td>Speeding</td>\n",
       "      <td>False</td>\n",
       "      <td>Citation</td>\n",
       "      <td>False</td>\n",
       "      <td>0-15 Min</td>\n",
       "      <td>False</td>\n",
       "      <td>7.5</td>\n",
       "    </tr>\n",
       "    <tr>\n",
       "      <th>1</th>\n",
       "      <td>2005-01-18</td>\n",
       "      <td>8:15</td>\n",
       "      <td>M</td>\n",
       "      <td>1965</td>\n",
       "      <td>40.0</td>\n",
       "      <td>White</td>\n",
       "      <td>Speeding</td>\n",
       "      <td>Speeding</td>\n",
       "      <td>False</td>\n",
       "      <td>Citation</td>\n",
       "      <td>False</td>\n",
       "      <td>0-15 Min</td>\n",
       "      <td>False</td>\n",
       "      <td>7.5</td>\n",
       "    </tr>\n",
       "    <tr>\n",
       "      <th>2</th>\n",
       "      <td>2005-01-23</td>\n",
       "      <td>23:15</td>\n",
       "      <td>M</td>\n",
       "      <td>1972</td>\n",
       "      <td>33.0</td>\n",
       "      <td>White</td>\n",
       "      <td>Speeding</td>\n",
       "      <td>Speeding</td>\n",
       "      <td>False</td>\n",
       "      <td>Citation</td>\n",
       "      <td>False</td>\n",
       "      <td>0-15 Min</td>\n",
       "      <td>False</td>\n",
       "      <td>7.5</td>\n",
       "    </tr>\n",
       "    <tr>\n",
       "      <th>3</th>\n",
       "      <td>2005-02-20</td>\n",
       "      <td>17:15</td>\n",
       "      <td>M</td>\n",
       "      <td>1986</td>\n",
       "      <td>19.0</td>\n",
       "      <td>White</td>\n",
       "      <td>Call for Service</td>\n",
       "      <td>Other</td>\n",
       "      <td>False</td>\n",
       "      <td>Arrest Driver</td>\n",
       "      <td>True</td>\n",
       "      <td>16-30 Min</td>\n",
       "      <td>False</td>\n",
       "      <td>24.0</td>\n",
       "    </tr>\n",
       "    <tr>\n",
       "      <th>4</th>\n",
       "      <td>2005-03-14</td>\n",
       "      <td>10:00</td>\n",
       "      <td>F</td>\n",
       "      <td>1984</td>\n",
       "      <td>21.0</td>\n",
       "      <td>White</td>\n",
       "      <td>Speeding</td>\n",
       "      <td>Speeding</td>\n",
       "      <td>False</td>\n",
       "      <td>Citation</td>\n",
       "      <td>False</td>\n",
       "      <td>0-15 Min</td>\n",
       "      <td>False</td>\n",
       "      <td>7.5</td>\n",
       "    </tr>\n",
       "  </tbody>\n",
       "</table>\n",
       "</div>"
      ],
      "text/plain": [
       "   stop_date stop_time driver_gender  driver_age_raw  driver_age driver_race  \\\n",
       "0 2005-01-02      1:55             M            1985        20.0       White   \n",
       "1 2005-01-18      8:15             M            1965        40.0       White   \n",
       "2 2005-01-23     23:15             M            1972        33.0       White   \n",
       "3 2005-02-20     17:15             M            1986        19.0       White   \n",
       "4 2005-03-14     10:00             F            1984        21.0       White   \n",
       "\n",
       "      violation_raw violation  search_conducted   stop_outcome is_arrested  \\\n",
       "0          Speeding  Speeding             False       Citation       False   \n",
       "1          Speeding  Speeding             False       Citation       False   \n",
       "2          Speeding  Speeding             False       Citation       False   \n",
       "3  Call for Service     Other             False  Arrest Driver        True   \n",
       "4          Speeding  Speeding             False       Citation       False   \n",
       "\n",
       "  stop_duration  drugs_related_stop  stop_duration_mean  \n",
       "0      0-15 Min               False                 7.5  \n",
       "1      0-15 Min               False                 7.5  \n",
       "2      0-15 Min               False                 7.5  \n",
       "3     16-30 Min               False                24.0  \n",
       "4      0-15 Min               False                 7.5  "
      ]
     },
     "execution_count": 346,
     "metadata": {},
     "output_type": "execute_result"
    }
   ],
   "source": [
    "df.head()"
   ]
  },
  {
   "cell_type": "code",
   "execution_count": 347,
   "id": "4f540abc",
   "metadata": {},
   "outputs": [
    {
     "data": {
      "text/plain": [
       "11.747246651111945"
      ]
     },
     "execution_count": 347,
     "metadata": {},
     "output_type": "execute_result"
    }
   ],
   "source": [
    "df['stop_duration_mean'].mean()"
   ]
  },
  {
   "cell_type": "markdown",
   "id": "1c9e9bc4",
   "metadata": {},
   "source": [
    "The average stop duration is 11.7 minutes."
   ]
  },
  {
   "cell_type": "markdown",
   "id": "31cf3c33",
   "metadata": {},
   "source": [
    "## 5. Violation per Age"
   ]
  },
  {
   "cell_type": "code",
   "execution_count": 349,
   "id": "2609400f",
   "metadata": {},
   "outputs": [
    {
     "data": {
      "text/html": [
       "<div>\n",
       "<style scoped>\n",
       "    .dataframe tbody tr th:only-of-type {\n",
       "        vertical-align: middle;\n",
       "    }\n",
       "\n",
       "    .dataframe tbody tr th {\n",
       "        vertical-align: top;\n",
       "    }\n",
       "\n",
       "    .dataframe thead th {\n",
       "        text-align: right;\n",
       "    }\n",
       "</style>\n",
       "<table border=\"1\" class=\"dataframe\">\n",
       "  <thead>\n",
       "    <tr style=\"text-align: right;\">\n",
       "      <th></th>\n",
       "      <th>count</th>\n",
       "      <th>mean</th>\n",
       "      <th>std</th>\n",
       "      <th>min</th>\n",
       "      <th>25%</th>\n",
       "      <th>50%</th>\n",
       "      <th>75%</th>\n",
       "      <th>max</th>\n",
       "    </tr>\n",
       "    <tr>\n",
       "      <th>violation</th>\n",
       "      <th></th>\n",
       "      <th></th>\n",
       "      <th></th>\n",
       "      <th></th>\n",
       "      <th></th>\n",
       "      <th></th>\n",
       "      <th></th>\n",
       "      <th></th>\n",
       "    </tr>\n",
       "  </thead>\n",
       "  <tbody>\n",
       "    <tr>\n",
       "      <th>Equipment</th>\n",
       "      <td>6497.0</td>\n",
       "      <td>31.693937</td>\n",
       "      <td>11.381299</td>\n",
       "      <td>16.0</td>\n",
       "      <td>23.0</td>\n",
       "      <td>28.000000</td>\n",
       "      <td>39.0</td>\n",
       "      <td>81.0</td>\n",
       "    </tr>\n",
       "    <tr>\n",
       "      <th>Moving violation</th>\n",
       "      <td>11894.0</td>\n",
       "      <td>36.759874</td>\n",
       "      <td>13.233840</td>\n",
       "      <td>15.0</td>\n",
       "      <td>25.0</td>\n",
       "      <td>35.000000</td>\n",
       "      <td>46.0</td>\n",
       "      <td>86.0</td>\n",
       "    </tr>\n",
       "    <tr>\n",
       "      <th>Other</th>\n",
       "      <td>3569.0</td>\n",
       "      <td>40.410625</td>\n",
       "      <td>12.559451</td>\n",
       "      <td>16.0</td>\n",
       "      <td>30.0</td>\n",
       "      <td>40.938881</td>\n",
       "      <td>50.0</td>\n",
       "      <td>86.0</td>\n",
       "    </tr>\n",
       "    <tr>\n",
       "      <th>Registration/plates</th>\n",
       "      <td>2225.0</td>\n",
       "      <td>32.663288</td>\n",
       "      <td>11.148358</td>\n",
       "      <td>16.0</td>\n",
       "      <td>24.0</td>\n",
       "      <td>30.000000</td>\n",
       "      <td>40.0</td>\n",
       "      <td>74.0</td>\n",
       "    </tr>\n",
       "    <tr>\n",
       "      <th>Seat belt</th>\n",
       "      <td>3.0</td>\n",
       "      <td>30.333333</td>\n",
       "      <td>10.214369</td>\n",
       "      <td>23.0</td>\n",
       "      <td>24.5</td>\n",
       "      <td>26.000000</td>\n",
       "      <td>34.0</td>\n",
       "      <td>42.0</td>\n",
       "    </tr>\n",
       "    <tr>\n",
       "      <th>Speeding</th>\n",
       "      <td>37102.0</td>\n",
       "      <td>33.286693</td>\n",
       "      <td>12.609905</td>\n",
       "      <td>15.0</td>\n",
       "      <td>23.0</td>\n",
       "      <td>30.000000</td>\n",
       "      <td>42.0</td>\n",
       "      <td>88.0</td>\n",
       "    </tr>\n",
       "  </tbody>\n",
       "</table>\n",
       "</div>"
      ],
      "text/plain": [
       "                       count       mean        std   min   25%        50%  \\\n",
       "violation                                                                   \n",
       "Equipment             6497.0  31.693937  11.381299  16.0  23.0  28.000000   \n",
       "Moving violation     11894.0  36.759874  13.233840  15.0  25.0  35.000000   \n",
       "Other                 3569.0  40.410625  12.559451  16.0  30.0  40.938881   \n",
       "Registration/plates   2225.0  32.663288  11.148358  16.0  24.0  30.000000   \n",
       "Seat belt                3.0  30.333333  10.214369  23.0  24.5  26.000000   \n",
       "Speeding             37102.0  33.286693  12.609905  15.0  23.0  30.000000   \n",
       "\n",
       "                      75%   max  \n",
       "violation                        \n",
       "Equipment            39.0  81.0  \n",
       "Moving violation     46.0  86.0  \n",
       "Other                50.0  86.0  \n",
       "Registration/plates  40.0  74.0  \n",
       "Seat belt            34.0  42.0  \n",
       "Speeding             42.0  88.0  "
      ]
     },
     "execution_count": 349,
     "metadata": {},
     "output_type": "execute_result"
    }
   ],
   "source": [
    "df.groupby('violation').driver_age.describe()"
   ]
  },
  {
   "cell_type": "markdown",
   "id": "246b3745",
   "metadata": {},
   "source": [
    "75% of Equipment violations are by drivers around the age of 39.\n",
    "75% of Speeding violations are by drivers around the age of 42."
   ]
  }
 ],
 "metadata": {
  "kernelspec": {
   "display_name": "Python 3 (ipykernel)",
   "language": "python",
   "name": "python3"
  },
  "language_info": {
   "codemirror_mode": {
    "name": "ipython",
    "version": 3
   },
   "file_extension": ".py",
   "mimetype": "text/x-python",
   "name": "python",
   "nbconvert_exporter": "python",
   "pygments_lexer": "ipython3",
   "version": "3.9.13"
  }
 },
 "nbformat": 4,
 "nbformat_minor": 5
}
